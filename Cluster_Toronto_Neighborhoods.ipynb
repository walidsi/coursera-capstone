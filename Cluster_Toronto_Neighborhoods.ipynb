{
  "cells": [
    {
      "cell_type": "code",
      "execution_count": 2,
      "metadata": {
        "id": "iaYMvip7w3Af"
      },
      "outputs": [
        {
          "name": "stdout",
          "output_type": "stream",
          "text": [
            "Libraries imported\n"
          ]
        }
      ],
      "source": [
        "import requests\n",
        "import urllib.request\n",
        "import time\n",
        "from bs4 import BeautifulSoup\n",
        "import numpy as np\n",
        "import pandas as pd\n",
        "from urllib.request import urlopen\n",
        "import geocoder\n",
        "\n",
        "\n",
        "pd.set_option('display.max_columns', 500)\n",
        "pd.set_option('display.max_rows', 100)\n",
        "\n",
        "print(\"Libraries imported\")"
      ]
    },
    {
      "cell_type": "markdown",
      "metadata": {},
      "source": [
        "## Part 1: Fetch the Postal Codes, Boroughs and Neighborhoods of Toronto"
      ]
    },
    {
      "cell_type": "markdown",
      "metadata": {},
      "source": [
        "#### 1.1 Read the HTML page and initialize a BeautifulSoup object with its contents"
      ]
    },
    {
      "cell_type": "code",
      "execution_count": 3,
      "metadata": {
        "id": "3UtlxTwlxAut"
      },
      "outputs": [],
      "source": [
        "url = 'https://en.wikipedia.org/wiki/List_of_postal_codes_of_Canada:_M'\n",
        "html = urlopen(url) \n",
        "soup = BeautifulSoup(html, 'html.parser')"
      ]
    },
    {
      "cell_type": "markdown",
      "metadata": {},
      "source": [
        "#### 1.2 Find all tables in the page"
      ]
    },
    {
      "cell_type": "code",
      "execution_count": 4,
      "metadata": {
        "id": "tIpLc3ATxNoy"
      },
      "outputs": [],
      "source": [
        "tables = soup.find_all('table')"
      ]
    },
    {
      "cell_type": "markdown",
      "metadata": {},
      "source": [
        "#### 1.3 Iterate through the cells of the first table and retrieve the postal codes, boroughs and neighborhoods"
      ]
    },
    {
      "cell_type": "code",
      "execution_count": 5,
      "metadata": {
        "id": "bkMyJraCxjCl"
      },
      "outputs": [],
      "source": [
        "#Create array to hold the data we extract\n",
        "postal_codes = []\n",
        "boroughs = []\n",
        "neighborhoods = []\n",
        "\n",
        "for table in tables:\n",
        "    rows = table.find_all('tr')\n",
        "    \n",
        "    for row in rows:\n",
        "        cells = row.find_all('td')\n",
        "        \n",
        "        if len(cells) > 1:\n",
        "            postal_code = cells[0]\n",
        "            postal_codes.append(postal_code.text.replace('\\n', '')) # remove any trailing new line character\n",
        "            \n",
        "            borough = cells[1]\n",
        "            boroughs.append(borough.text.replace('\\n', ''))\n",
        "            \n",
        "            neighborhood = cells[2]\n",
        "            neighborhoods.append(neighborhood.text.replace('\\n', ''))\n",
        "    \n",
        "    break # we only need to parse the first table         "
      ]
    },
    {
      "cell_type": "markdown",
      "metadata": {
        "id": "_hmARZqF3Z0M"
      },
      "source": [
        "#### 1.4 Transform the data to a dataframe"
      ]
    },
    {
      "cell_type": "code",
      "execution_count": 6,
      "metadata": {
        "colab": {
          "base_uri": "https://localhost:8080/",
          "height": 1000
        },
        "id": "AXDqFmeczZu8",
        "outputId": "24810f71-c01d-4425-ab45-3e753590ef83"
      },
      "outputs": [
        {
          "data": {
            "text/html": [
              "<div>\n",
              "<style scoped>\n",
              "    .dataframe tbody tr th:only-of-type {\n",
              "        vertical-align: middle;\n",
              "    }\n",
              "\n",
              "    .dataframe tbody tr th {\n",
              "        vertical-align: top;\n",
              "    }\n",
              "\n",
              "    .dataframe thead th {\n",
              "        text-align: right;\n",
              "    }\n",
              "</style>\n",
              "<table border=\"1\" class=\"dataframe\">\n",
              "  <thead>\n",
              "    <tr style=\"text-align: right;\">\n",
              "      <th></th>\n",
              "      <th>PostalCode</th>\n",
              "      <th>Borough</th>\n",
              "      <th>Neighborhood</th>\n",
              "    </tr>\n",
              "  </thead>\n",
              "  <tbody>\n",
              "    <tr>\n",
              "      <th>0</th>\n",
              "      <td>M1ANot assigned</td>\n",
              "      <td>M2ANot assigned</td>\n",
              "      <td>M3ANorth York(Parkwoods)</td>\n",
              "    </tr>\n",
              "    <tr>\n",
              "      <th>1</th>\n",
              "      <td>M1BScarborough(Malvern / Rouge)</td>\n",
              "      <td>M2BNot assigned</td>\n",
              "      <td>M3BNorth York(Don Mills)North</td>\n",
              "    </tr>\n",
              "    <tr>\n",
              "      <th>2</th>\n",
              "      <td>M1CScarborough(Rouge Hill / Port Union / Highl...</td>\n",
              "      <td>M2CNot assigned</td>\n",
              "      <td>M3CNorth York(Don Mills)South(Flemingdon Park)</td>\n",
              "    </tr>\n",
              "    <tr>\n",
              "      <th>3</th>\n",
              "      <td>M1EScarborough(Guildwood / Morningside / West ...</td>\n",
              "      <td>M2ENot assigned</td>\n",
              "      <td>M3ENot assigned</td>\n",
              "    </tr>\n",
              "    <tr>\n",
              "      <th>4</th>\n",
              "      <td>M1GScarborough(Woburn)</td>\n",
              "      <td>M2GNot assigned</td>\n",
              "      <td>M3GNot assigned</td>\n",
              "    </tr>\n",
              "    <tr>\n",
              "      <th>5</th>\n",
              "      <td>M1HScarborough(Cedarbrae)</td>\n",
              "      <td>M2HNorth York(Hillcrest Village)</td>\n",
              "      <td>M3HNorth York(Bathurst Manor / Wilson Heights ...</td>\n",
              "    </tr>\n",
              "    <tr>\n",
              "      <th>6</th>\n",
              "      <td>M1JScarborough(Scarborough Village)</td>\n",
              "      <td>M2JNorth York(Fairview / Henry Farm / Oriole)</td>\n",
              "      <td>M3JNorth York(Northwood Park / York University)</td>\n",
              "    </tr>\n",
              "    <tr>\n",
              "      <th>7</th>\n",
              "      <td>M1KScarborough(Kennedy Park / Ionview / East B...</td>\n",
              "      <td>M2KNorth York(Bayview Village)</td>\n",
              "      <td>M3KNorth York(Downsview)East  (CFB Toronto)</td>\n",
              "    </tr>\n",
              "    <tr>\n",
              "      <th>8</th>\n",
              "      <td>M1LScarborough(Golden Mile / Clairlea / Oakridge)</td>\n",
              "      <td>M2LNorth York(York Mills / Silver Hills)</td>\n",
              "      <td>M3LNorth York(Downsview)West</td>\n",
              "    </tr>\n",
              "    <tr>\n",
              "      <th>9</th>\n",
              "      <td>M1MScarborough(Cliffside / Cliffcrest / Scarbo...</td>\n",
              "      <td>M2MNorth York(Willowdale / Newtonbrook)</td>\n",
              "      <td>M3MNorth York(Downsview)Central</td>\n",
              "    </tr>\n",
              "    <tr>\n",
              "      <th>10</th>\n",
              "      <td>M1NScarborough(Birch Cliff / Cliffside West)</td>\n",
              "      <td>M2NNorth York(Willowdale)South</td>\n",
              "      <td>M3NNorth York(Downsview)Northwest</td>\n",
              "    </tr>\n",
              "    <tr>\n",
              "      <th>11</th>\n",
              "      <td>M1PScarborough(Dorset Park / Wexford Heights /...</td>\n",
              "      <td>M2PNorth York(York Mills West)</td>\n",
              "      <td>M3PNot assigned</td>\n",
              "    </tr>\n",
              "    <tr>\n",
              "      <th>12</th>\n",
              "      <td>M1RScarborough(Wexford / Maryvale)</td>\n",
              "      <td>M2RNorth York(Willowdale)West</td>\n",
              "      <td>M3RNot assigned</td>\n",
              "    </tr>\n",
              "    <tr>\n",
              "      <th>13</th>\n",
              "      <td>M1SScarborough(Agincourt)</td>\n",
              "      <td>M2SNot assigned</td>\n",
              "      <td>M3SNot assigned</td>\n",
              "    </tr>\n",
              "    <tr>\n",
              "      <th>14</th>\n",
              "      <td>M1TScarborough(Clarks Corners / Tam O'Shanter ...</td>\n",
              "      <td>M2TNot assigned</td>\n",
              "      <td>M3TNot assigned</td>\n",
              "    </tr>\n",
              "    <tr>\n",
              "      <th>15</th>\n",
              "      <td>M1VScarborough(Milliken / Agincourt North / St...</td>\n",
              "      <td>M2VNot assigned</td>\n",
              "      <td>M3VNot assigned</td>\n",
              "    </tr>\n",
              "    <tr>\n",
              "      <th>16</th>\n",
              "      <td>M1WScarborough(Steeles West / L'Amoreaux West)</td>\n",
              "      <td>M2WNot assigned</td>\n",
              "      <td>M3WNot assigned</td>\n",
              "    </tr>\n",
              "    <tr>\n",
              "      <th>17</th>\n",
              "      <td>M1XScarborough(Upper Rouge)</td>\n",
              "      <td>M2XNot assigned</td>\n",
              "      <td>M3XNot assigned</td>\n",
              "    </tr>\n",
              "    <tr>\n",
              "      <th>18</th>\n",
              "      <td>M1YNot assigned</td>\n",
              "      <td>M2YNot assigned</td>\n",
              "      <td>M3YNot assigned</td>\n",
              "    </tr>\n",
              "    <tr>\n",
              "      <th>19</th>\n",
              "      <td>M1ZNot assigned</td>\n",
              "      <td>M2ZNot assigned</td>\n",
              "      <td>M3ZNot assigned</td>\n",
              "    </tr>\n",
              "  </tbody>\n",
              "</table>\n",
              "</div>"
            ],
            "text/plain": [
              "                                           PostalCode  \\\n",
              "0                                     M1ANot assigned   \n",
              "1                     M1BScarborough(Malvern / Rouge)   \n",
              "2   M1CScarborough(Rouge Hill / Port Union / Highl...   \n",
              "3   M1EScarborough(Guildwood / Morningside / West ...   \n",
              "4                              M1GScarborough(Woburn)   \n",
              "5                           M1HScarborough(Cedarbrae)   \n",
              "6                 M1JScarborough(Scarborough Village)   \n",
              "7   M1KScarborough(Kennedy Park / Ionview / East B...   \n",
              "8   M1LScarborough(Golden Mile / Clairlea / Oakridge)   \n",
              "9   M1MScarborough(Cliffside / Cliffcrest / Scarbo...   \n",
              "10       M1NScarborough(Birch Cliff / Cliffside West)   \n",
              "11  M1PScarborough(Dorset Park / Wexford Heights /...   \n",
              "12                 M1RScarborough(Wexford / Maryvale)   \n",
              "13                         M1SScarborough(Agincourt)    \n",
              "14  M1TScarborough(Clarks Corners / Tam O'Shanter ...   \n",
              "15  M1VScarborough(Milliken / Agincourt North / St...   \n",
              "16     M1WScarborough(Steeles West / L'Amoreaux West)   \n",
              "17                        M1XScarborough(Upper Rouge)   \n",
              "18                                    M1YNot assigned   \n",
              "19                                    M1ZNot assigned   \n",
              "\n",
              "                                          Borough  \\\n",
              "0                                 M2ANot assigned   \n",
              "1                                 M2BNot assigned   \n",
              "2                                 M2CNot assigned   \n",
              "3                                 M2ENot assigned   \n",
              "4                                 M2GNot assigned   \n",
              "5                M2HNorth York(Hillcrest Village)   \n",
              "6   M2JNorth York(Fairview / Henry Farm / Oriole)   \n",
              "7                  M2KNorth York(Bayview Village)   \n",
              "8        M2LNorth York(York Mills / Silver Hills)   \n",
              "9         M2MNorth York(Willowdale / Newtonbrook)   \n",
              "10                 M2NNorth York(Willowdale)South   \n",
              "11                 M2PNorth York(York Mills West)   \n",
              "12                  M2RNorth York(Willowdale)West   \n",
              "13                                M2SNot assigned   \n",
              "14                                M2TNot assigned   \n",
              "15                                M2VNot assigned   \n",
              "16                                M2WNot assigned   \n",
              "17                                M2XNot assigned   \n",
              "18                                M2YNot assigned   \n",
              "19                                M2ZNot assigned   \n",
              "\n",
              "                                         Neighborhood  \n",
              "0                            M3ANorth York(Parkwoods)  \n",
              "1                       M3BNorth York(Don Mills)North  \n",
              "2      M3CNorth York(Don Mills)South(Flemingdon Park)  \n",
              "3                                     M3ENot assigned  \n",
              "4                                     M3GNot assigned  \n",
              "5   M3HNorth York(Bathurst Manor / Wilson Heights ...  \n",
              "6     M3JNorth York(Northwood Park / York University)  \n",
              "7         M3KNorth York(Downsview)East  (CFB Toronto)  \n",
              "8                        M3LNorth York(Downsview)West  \n",
              "9                     M3MNorth York(Downsview)Central  \n",
              "10                  M3NNorth York(Downsview)Northwest  \n",
              "11                                    M3PNot assigned  \n",
              "12                                    M3RNot assigned  \n",
              "13                                    M3SNot assigned  \n",
              "14                                    M3TNot assigned  \n",
              "15                                    M3VNot assigned  \n",
              "16                                    M3WNot assigned  \n",
              "17                                    M3XNot assigned  \n",
              "18                                    M3YNot assigned  \n",
              "19                                    M3ZNot assigned  "
            ]
          },
          "execution_count": 6,
          "metadata": {},
          "output_type": "execute_result"
        }
      ],
      "source": [
        "df = pd.DataFrame({'PostalCode': postal_codes,\n",
        "                   'Borough': boroughs,\n",
        "                   'Neighborhood': neighborhoods})\n",
        "\n",
        "df"
      ]
    },
    {
      "cell_type": "code",
      "execution_count": 7,
      "metadata": {},
      "outputs": [
        {
          "data": {
            "text/html": [
              "<div>\n",
              "<style scoped>\n",
              "    .dataframe tbody tr th:only-of-type {\n",
              "        vertical-align: middle;\n",
              "    }\n",
              "\n",
              "    .dataframe tbody tr th {\n",
              "        vertical-align: top;\n",
              "    }\n",
              "\n",
              "    .dataframe thead th {\n",
              "        text-align: right;\n",
              "    }\n",
              "</style>\n",
              "<table border=\"1\" class=\"dataframe\">\n",
              "  <thead>\n",
              "    <tr style=\"text-align: right;\">\n",
              "      <th></th>\n",
              "      <th>PostalCode</th>\n",
              "      <th>Borough</th>\n",
              "      <th>Neighborhood</th>\n",
              "    </tr>\n",
              "  </thead>\n",
              "  <tbody>\n",
              "    <tr>\n",
              "      <th>0</th>\n",
              "      <td>M1ANot assigned</td>\n",
              "      <td>M2ANot assigned</td>\n",
              "      <td>M3ANorth York(Parkwoods)</td>\n",
              "    </tr>\n",
              "    <tr>\n",
              "      <th>1</th>\n",
              "      <td>M1BScarborough(Malvern / Rouge)</td>\n",
              "      <td>M2BNot assigned</td>\n",
              "      <td>M3BNorth York(Don Mills)North</td>\n",
              "    </tr>\n",
              "    <tr>\n",
              "      <th>2</th>\n",
              "      <td>M1CScarborough(Rouge Hill / Port Union / Highl...</td>\n",
              "      <td>M2CNot assigned</td>\n",
              "      <td>M3CNorth York(Don Mills)South(Flemingdon Park)</td>\n",
              "    </tr>\n",
              "    <tr>\n",
              "      <th>3</th>\n",
              "      <td>M1EScarborough(Guildwood / Morningside / West ...</td>\n",
              "      <td>M2ENot assigned</td>\n",
              "      <td>M3ENot assigned</td>\n",
              "    </tr>\n",
              "    <tr>\n",
              "      <th>4</th>\n",
              "      <td>M1GScarborough(Woburn)</td>\n",
              "      <td>M2GNot assigned</td>\n",
              "      <td>M3GNot assigned</td>\n",
              "    </tr>\n",
              "    <tr>\n",
              "      <th>5</th>\n",
              "      <td>M1HScarborough(Cedarbrae)</td>\n",
              "      <td>M2HNorth York(Hillcrest Village)</td>\n",
              "      <td>M3HNorth York(Bathurst Manor / Wilson Heights ...</td>\n",
              "    </tr>\n",
              "    <tr>\n",
              "      <th>6</th>\n",
              "      <td>M1JScarborough(Scarborough Village)</td>\n",
              "      <td>M2JNorth York(Fairview / Henry Farm / Oriole)</td>\n",
              "      <td>M3JNorth York(Northwood Park / York University)</td>\n",
              "    </tr>\n",
              "    <tr>\n",
              "      <th>7</th>\n",
              "      <td>M1KScarborough(Kennedy Park / Ionview / East B...</td>\n",
              "      <td>M2KNorth York(Bayview Village)</td>\n",
              "      <td>M3KNorth York(Downsview)East  (CFB Toronto)</td>\n",
              "    </tr>\n",
              "    <tr>\n",
              "      <th>8</th>\n",
              "      <td>M1LScarborough(Golden Mile / Clairlea / Oakridge)</td>\n",
              "      <td>M2LNorth York(York Mills / Silver Hills)</td>\n",
              "      <td>M3LNorth York(Downsview)West</td>\n",
              "    </tr>\n",
              "    <tr>\n",
              "      <th>9</th>\n",
              "      <td>M1MScarborough(Cliffside / Cliffcrest / Scarbo...</td>\n",
              "      <td>M2MNorth York(Willowdale / Newtonbrook)</td>\n",
              "      <td>M3MNorth York(Downsview)Central</td>\n",
              "    </tr>\n",
              "    <tr>\n",
              "      <th>10</th>\n",
              "      <td>M1NScarborough(Birch Cliff / Cliffside West)</td>\n",
              "      <td>M2NNorth York(Willowdale)South</td>\n",
              "      <td>M3NNorth York(Downsview)Northwest</td>\n",
              "    </tr>\n",
              "    <tr>\n",
              "      <th>11</th>\n",
              "      <td>M1PScarborough(Dorset Park / Wexford Heights /...</td>\n",
              "      <td>M2PNorth York(York Mills West)</td>\n",
              "      <td>M3PNot assigned</td>\n",
              "    </tr>\n",
              "    <tr>\n",
              "      <th>12</th>\n",
              "      <td>M1RScarborough(Wexford / Maryvale)</td>\n",
              "      <td>M2RNorth York(Willowdale)West</td>\n",
              "      <td>M3RNot assigned</td>\n",
              "    </tr>\n",
              "    <tr>\n",
              "      <th>13</th>\n",
              "      <td>M1SScarborough(Agincourt)</td>\n",
              "      <td>M2SNot assigned</td>\n",
              "      <td>M3SNot assigned</td>\n",
              "    </tr>\n",
              "    <tr>\n",
              "      <th>14</th>\n",
              "      <td>M1TScarborough(Clarks Corners / Tam O'Shanter ...</td>\n",
              "      <td>M2TNot assigned</td>\n",
              "      <td>M3TNot assigned</td>\n",
              "    </tr>\n",
              "    <tr>\n",
              "      <th>15</th>\n",
              "      <td>M1VScarborough(Milliken / Agincourt North / St...</td>\n",
              "      <td>M2VNot assigned</td>\n",
              "      <td>M3VNot assigned</td>\n",
              "    </tr>\n",
              "    <tr>\n",
              "      <th>16</th>\n",
              "      <td>M1WScarborough(Steeles West / L'Amoreaux West)</td>\n",
              "      <td>M2WNot assigned</td>\n",
              "      <td>M3WNot assigned</td>\n",
              "    </tr>\n",
              "    <tr>\n",
              "      <th>17</th>\n",
              "      <td>M1XScarborough(Upper Rouge)</td>\n",
              "      <td>M2XNot assigned</td>\n",
              "      <td>M3XNot assigned</td>\n",
              "    </tr>\n",
              "    <tr>\n",
              "      <th>18</th>\n",
              "      <td>M1YNot assigned</td>\n",
              "      <td>M2YNot assigned</td>\n",
              "      <td>M3YNot assigned</td>\n",
              "    </tr>\n",
              "    <tr>\n",
              "      <th>19</th>\n",
              "      <td>M1ZNot assigned</td>\n",
              "      <td>M2ZNot assigned</td>\n",
              "      <td>M3ZNot assigned</td>\n",
              "    </tr>\n",
              "  </tbody>\n",
              "</table>\n",
              "</div>"
            ],
            "text/plain": [
              "                                           PostalCode  \\\n",
              "0                                     M1ANot assigned   \n",
              "1                     M1BScarborough(Malvern / Rouge)   \n",
              "2   M1CScarborough(Rouge Hill / Port Union / Highl...   \n",
              "3   M1EScarborough(Guildwood / Morningside / West ...   \n",
              "4                              M1GScarborough(Woburn)   \n",
              "5                           M1HScarborough(Cedarbrae)   \n",
              "6                 M1JScarborough(Scarborough Village)   \n",
              "7   M1KScarborough(Kennedy Park / Ionview / East B...   \n",
              "8   M1LScarborough(Golden Mile / Clairlea / Oakridge)   \n",
              "9   M1MScarborough(Cliffside / Cliffcrest / Scarbo...   \n",
              "10       M1NScarborough(Birch Cliff / Cliffside West)   \n",
              "11  M1PScarborough(Dorset Park / Wexford Heights /...   \n",
              "12                 M1RScarborough(Wexford / Maryvale)   \n",
              "13                         M1SScarborough(Agincourt)    \n",
              "14  M1TScarborough(Clarks Corners / Tam O'Shanter ...   \n",
              "15  M1VScarborough(Milliken / Agincourt North / St...   \n",
              "16     M1WScarborough(Steeles West / L'Amoreaux West)   \n",
              "17                        M1XScarborough(Upper Rouge)   \n",
              "18                                    M1YNot assigned   \n",
              "19                                    M1ZNot assigned   \n",
              "\n",
              "                                          Borough  \\\n",
              "0                                 M2ANot assigned   \n",
              "1                                 M2BNot assigned   \n",
              "2                                 M2CNot assigned   \n",
              "3                                 M2ENot assigned   \n",
              "4                                 M2GNot assigned   \n",
              "5                M2HNorth York(Hillcrest Village)   \n",
              "6   M2JNorth York(Fairview / Henry Farm / Oriole)   \n",
              "7                  M2KNorth York(Bayview Village)   \n",
              "8        M2LNorth York(York Mills / Silver Hills)   \n",
              "9         M2MNorth York(Willowdale / Newtonbrook)   \n",
              "10                 M2NNorth York(Willowdale)South   \n",
              "11                 M2PNorth York(York Mills West)   \n",
              "12                  M2RNorth York(Willowdale)West   \n",
              "13                                M2SNot assigned   \n",
              "14                                M2TNot assigned   \n",
              "15                                M2VNot assigned   \n",
              "16                                M2WNot assigned   \n",
              "17                                M2XNot assigned   \n",
              "18                                M2YNot assigned   \n",
              "19                                M2ZNot assigned   \n",
              "\n",
              "                                         Neighborhood  \n",
              "0                            M3ANorth York(Parkwoods)  \n",
              "1                       M3BNorth York(Don Mills)North  \n",
              "2      M3CNorth York(Don Mills)South(Flemingdon Park)  \n",
              "3                                     M3ENot assigned  \n",
              "4                                     M3GNot assigned  \n",
              "5   M3HNorth York(Bathurst Manor / Wilson Heights ...  \n",
              "6     M3JNorth York(Northwood Park / York University)  \n",
              "7         M3KNorth York(Downsview)East  (CFB Toronto)  \n",
              "8                        M3LNorth York(Downsview)West  \n",
              "9                     M3MNorth York(Downsview)Central  \n",
              "10                  M3NNorth York(Downsview)Northwest  \n",
              "11                                    M3PNot assigned  \n",
              "12                                    M3RNot assigned  \n",
              "13                                    M3SNot assigned  \n",
              "14                                    M3TNot assigned  \n",
              "15                                    M3VNot assigned  \n",
              "16                                    M3WNot assigned  \n",
              "17                                    M3XNot assigned  \n",
              "18                                    M3YNot assigned  \n",
              "19                                    M3ZNot assigned  "
            ]
          },
          "execution_count": 7,
          "metadata": {},
          "output_type": "execute_result"
        }
      ],
      "source": [
        "df = df[df['Borough'] != \"Not assigned\"] #remove any rows without Borough\n",
        "\n",
        "df"
      ]
    },
    {
      "cell_type": "markdown",
      "metadata": {},
      "source": [
        "#### 1.5 Finally keep the postal codes we need and drop the rest"
      ]
    },
    {
      "cell_type": "code",
      "execution_count": 8,
      "metadata": {
        "colab": {
          "base_uri": "https://localhost:8080/",
          "height": 314
        },
        "id": "TwVwhzIN56Pk",
        "outputId": "9b75e37e-a233-4ce1-d96d-9babfbb3709b"
      },
      "outputs": [
        {
          "data": {
            "text/html": [
              "<div>\n",
              "<style scoped>\n",
              "    .dataframe tbody tr th:only-of-type {\n",
              "        vertical-align: middle;\n",
              "    }\n",
              "\n",
              "    .dataframe tbody tr th {\n",
              "        vertical-align: top;\n",
              "    }\n",
              "\n",
              "    .dataframe thead th {\n",
              "        text-align: right;\n",
              "    }\n",
              "</style>\n",
              "<table border=\"1\" class=\"dataframe\">\n",
              "  <thead>\n",
              "    <tr style=\"text-align: right;\">\n",
              "      <th></th>\n",
              "      <th>PostalCode</th>\n",
              "      <th>Borough</th>\n",
              "      <th>Neighborhood</th>\n",
              "    </tr>\n",
              "  </thead>\n",
              "  <tbody>\n",
              "    <tr>\n",
              "      <th>0</th>\n",
              "      <td>M1ANot assigned</td>\n",
              "      <td>M2ANot assigned</td>\n",
              "      <td>M3ANorth York(Parkwoods)</td>\n",
              "    </tr>\n",
              "    <tr>\n",
              "      <th>1</th>\n",
              "      <td>M1BScarborough(Malvern / Rouge)</td>\n",
              "      <td>M2BNot assigned</td>\n",
              "      <td>M3BNorth York(Don Mills)North</td>\n",
              "    </tr>\n",
              "    <tr>\n",
              "      <th>2</th>\n",
              "      <td>M1CScarborough(Rouge Hill / Port Union / Highl...</td>\n",
              "      <td>M2CNot assigned</td>\n",
              "      <td>M3CNorth York(Don Mills)South(Flemingdon Park)</td>\n",
              "    </tr>\n",
              "    <tr>\n",
              "      <th>3</th>\n",
              "      <td>M1EScarborough(Guildwood / Morningside / West ...</td>\n",
              "      <td>M2ENot assigned</td>\n",
              "      <td>M3ENot assigned</td>\n",
              "    </tr>\n",
              "    <tr>\n",
              "      <th>4</th>\n",
              "      <td>M1GScarborough(Woburn)</td>\n",
              "      <td>M2GNot assigned</td>\n",
              "      <td>M3GNot assigned</td>\n",
              "    </tr>\n",
              "    <tr>\n",
              "      <th>5</th>\n",
              "      <td>M1HScarborough(Cedarbrae)</td>\n",
              "      <td>M2HNorth York(Hillcrest Village)</td>\n",
              "      <td>M3HNorth York(Bathurst Manor / Wilson Heights ...</td>\n",
              "    </tr>\n",
              "    <tr>\n",
              "      <th>6</th>\n",
              "      <td>M1JScarborough(Scarborough Village)</td>\n",
              "      <td>M2JNorth York(Fairview / Henry Farm / Oriole)</td>\n",
              "      <td>M3JNorth York(Northwood Park / York University)</td>\n",
              "    </tr>\n",
              "    <tr>\n",
              "      <th>7</th>\n",
              "      <td>M1KScarborough(Kennedy Park / Ionview / East B...</td>\n",
              "      <td>M2KNorth York(Bayview Village)</td>\n",
              "      <td>M3KNorth York(Downsview)East  (CFB Toronto)</td>\n",
              "    </tr>\n",
              "    <tr>\n",
              "      <th>8</th>\n",
              "      <td>M1LScarborough(Golden Mile / Clairlea / Oakridge)</td>\n",
              "      <td>M2LNorth York(York Mills / Silver Hills)</td>\n",
              "      <td>M3LNorth York(Downsview)West</td>\n",
              "    </tr>\n",
              "    <tr>\n",
              "      <th>9</th>\n",
              "      <td>M1MScarborough(Cliffside / Cliffcrest / Scarbo...</td>\n",
              "      <td>M2MNorth York(Willowdale / Newtonbrook)</td>\n",
              "      <td>M3MNorth York(Downsview)Central</td>\n",
              "    </tr>\n",
              "    <tr>\n",
              "      <th>10</th>\n",
              "      <td>M1NScarborough(Birch Cliff / Cliffside West)</td>\n",
              "      <td>M2NNorth York(Willowdale)South</td>\n",
              "      <td>M3NNorth York(Downsview)Northwest</td>\n",
              "    </tr>\n",
              "    <tr>\n",
              "      <th>11</th>\n",
              "      <td>M1PScarborough(Dorset Park / Wexford Heights /...</td>\n",
              "      <td>M2PNorth York(York Mills West)</td>\n",
              "      <td>M3PNot assigned</td>\n",
              "    </tr>\n",
              "    <tr>\n",
              "      <th>12</th>\n",
              "      <td>M1RScarborough(Wexford / Maryvale)</td>\n",
              "      <td>M2RNorth York(Willowdale)West</td>\n",
              "      <td>M3RNot assigned</td>\n",
              "    </tr>\n",
              "    <tr>\n",
              "      <th>13</th>\n",
              "      <td>M1SScarborough(Agincourt)</td>\n",
              "      <td>M2SNot assigned</td>\n",
              "      <td>M3SNot assigned</td>\n",
              "    </tr>\n",
              "    <tr>\n",
              "      <th>14</th>\n",
              "      <td>M1TScarborough(Clarks Corners / Tam O'Shanter ...</td>\n",
              "      <td>M2TNot assigned</td>\n",
              "      <td>M3TNot assigned</td>\n",
              "    </tr>\n",
              "    <tr>\n",
              "      <th>15</th>\n",
              "      <td>M1VScarborough(Milliken / Agincourt North / St...</td>\n",
              "      <td>M2VNot assigned</td>\n",
              "      <td>M3VNot assigned</td>\n",
              "    </tr>\n",
              "    <tr>\n",
              "      <th>16</th>\n",
              "      <td>M1WScarborough(Steeles West / L'Amoreaux West)</td>\n",
              "      <td>M2WNot assigned</td>\n",
              "      <td>M3WNot assigned</td>\n",
              "    </tr>\n",
              "    <tr>\n",
              "      <th>17</th>\n",
              "      <td>M1XScarborough(Upper Rouge)</td>\n",
              "      <td>M2XNot assigned</td>\n",
              "      <td>M3XNot assigned</td>\n",
              "    </tr>\n",
              "    <tr>\n",
              "      <th>18</th>\n",
              "      <td>M1YNot assigned</td>\n",
              "      <td>M2YNot assigned</td>\n",
              "      <td>M3YNot assigned</td>\n",
              "    </tr>\n",
              "    <tr>\n",
              "      <th>19</th>\n",
              "      <td>M1ZNot assigned</td>\n",
              "      <td>M2ZNot assigned</td>\n",
              "      <td>M3ZNot assigned</td>\n",
              "    </tr>\n",
              "  </tbody>\n",
              "</table>\n",
              "</div>"
            ],
            "text/plain": [
              "                                           PostalCode  \\\n",
              "0                                     M1ANot assigned   \n",
              "1                     M1BScarborough(Malvern / Rouge)   \n",
              "2   M1CScarborough(Rouge Hill / Port Union / Highl...   \n",
              "3   M1EScarborough(Guildwood / Morningside / West ...   \n",
              "4                              M1GScarborough(Woburn)   \n",
              "5                           M1HScarborough(Cedarbrae)   \n",
              "6                 M1JScarborough(Scarborough Village)   \n",
              "7   M1KScarborough(Kennedy Park / Ionview / East B...   \n",
              "8   M1LScarborough(Golden Mile / Clairlea / Oakridge)   \n",
              "9   M1MScarborough(Cliffside / Cliffcrest / Scarbo...   \n",
              "10       M1NScarborough(Birch Cliff / Cliffside West)   \n",
              "11  M1PScarborough(Dorset Park / Wexford Heights /...   \n",
              "12                 M1RScarborough(Wexford / Maryvale)   \n",
              "13                         M1SScarborough(Agincourt)    \n",
              "14  M1TScarborough(Clarks Corners / Tam O'Shanter ...   \n",
              "15  M1VScarborough(Milliken / Agincourt North / St...   \n",
              "16     M1WScarborough(Steeles West / L'Amoreaux West)   \n",
              "17                        M1XScarborough(Upper Rouge)   \n",
              "18                                    M1YNot assigned   \n",
              "19                                    M1ZNot assigned   \n",
              "\n",
              "                                          Borough  \\\n",
              "0                                 M2ANot assigned   \n",
              "1                                 M2BNot assigned   \n",
              "2                                 M2CNot assigned   \n",
              "3                                 M2ENot assigned   \n",
              "4                                 M2GNot assigned   \n",
              "5                M2HNorth York(Hillcrest Village)   \n",
              "6   M2JNorth York(Fairview / Henry Farm / Oriole)   \n",
              "7                  M2KNorth York(Bayview Village)   \n",
              "8        M2LNorth York(York Mills / Silver Hills)   \n",
              "9         M2MNorth York(Willowdale / Newtonbrook)   \n",
              "10                 M2NNorth York(Willowdale)South   \n",
              "11                 M2PNorth York(York Mills West)   \n",
              "12                  M2RNorth York(Willowdale)West   \n",
              "13                                M2SNot assigned   \n",
              "14                                M2TNot assigned   \n",
              "15                                M2VNot assigned   \n",
              "16                                M2WNot assigned   \n",
              "17                                M2XNot assigned   \n",
              "18                                M2YNot assigned   \n",
              "19                                M2ZNot assigned   \n",
              "\n",
              "                                         Neighborhood  \n",
              "0                            M3ANorth York(Parkwoods)  \n",
              "1                       M3BNorth York(Don Mills)North  \n",
              "2      M3CNorth York(Don Mills)South(Flemingdon Park)  \n",
              "3                                     M3ENot assigned  \n",
              "4                                     M3GNot assigned  \n",
              "5   M3HNorth York(Bathurst Manor / Wilson Heights ...  \n",
              "6     M3JNorth York(Northwood Park / York University)  \n",
              "7         M3KNorth York(Downsview)East  (CFB Toronto)  \n",
              "8                        M3LNorth York(Downsview)West  \n",
              "9                     M3MNorth York(Downsview)Central  \n",
              "10                  M3NNorth York(Downsview)Northwest  \n",
              "11                                    M3PNot assigned  \n",
              "12                                    M3RNot assigned  \n",
              "13                                    M3SNot assigned  \n",
              "14                                    M3TNot assigned  \n",
              "15                                    M3VNot assigned  \n",
              "16                                    M3WNot assigned  \n",
              "17                                    M3XNot assigned  \n",
              "18                                    M3YNot assigned  \n",
              "19                                    M3ZNot assigned  "
            ]
          },
          "execution_count": 8,
          "metadata": {},
          "output_type": "execute_result"
        }
      ],
      "source": [
        "#selected_postal_codes = ['M5G', 'M2H', 'M4B', 'M1J', 'M4G', 'M4M', 'M1R', 'M9V', 'M9L', 'M5V', 'M1B', 'M5A']\n",
        "#df = df[df['PostalCode'].isin(selected_postal_codes)]\n",
        "#df_toronto = df.reset_index(drop=True)\n",
        "\n",
        "df_toronto = df\n",
        "df_toronto"
      ]
    },
    {
      "cell_type": "code",
      "execution_count": 9,
      "metadata": {},
      "outputs": [
        {
          "data": {
            "text/plain": [
              "(20, 3)"
            ]
          },
          "execution_count": 9,
          "metadata": {},
          "output_type": "execute_result"
        }
      ],
      "source": [
        "df_toronto.shape"
      ]
    },
    {
      "cell_type": "markdown",
      "metadata": {},
      "source": [
        "## Part 2: Fetch the latitude and longitude of the neighborhoods\n"
      ]
    },
    {
      "cell_type": "code",
      "execution_count": 10,
      "metadata": {},
      "outputs": [],
      "source": [
        "# Code to split each row that has more than one neighborhood for a postal code into separate rows, not needed anymore\n",
        "\n",
        "# df_toronto = pd.DataFrame(columns = ['PostalCode', 'Borough', 'Neighborhood']) \n",
        "# df_toronto.dtypes\n",
        "\n",
        "# for index, row in df.iterrows():\n",
        "#     neighborhoods = row['Neighborhood'].split(',')\n",
        "#     if len(neighborhoods) > 1 :\n",
        "#         for neighborhood in neighborhoods:\n",
        "#             new_row = {'PostalCode': row['PostalCode'], 'Borough': row['Borough'], 'Neighborhood': neighborhood}\n",
        "#             df_toronto = df_toronto.append(new_row, ignore_index=True)\n",
        "#     else:\n",
        "#         new_row = {'PostalCode': row['PostalCode'], 'Borough': row['Borough'], 'Neighborhood': row['Neighborhood']}\n",
        "#         df_toronto = df_toronto.append(new_row, ignore_index=True)\n",
        "\n",
        "# df_toronto"
      ]
    },
    {
      "cell_type": "markdown",
      "metadata": {},
      "source": [
        "#### 2.1 Load geospatial coordinates for Toronto from CSV file"
      ]
    },
    {
      "cell_type": "code",
      "execution_count": 11,
      "metadata": {},
      "outputs": [
        {
          "data": {
            "text/html": [
              "<div>\n",
              "<style scoped>\n",
              "    .dataframe tbody tr th:only-of-type {\n",
              "        vertical-align: middle;\n",
              "    }\n",
              "\n",
              "    .dataframe tbody tr th {\n",
              "        vertical-align: top;\n",
              "    }\n",
              "\n",
              "    .dataframe thead th {\n",
              "        text-align: right;\n",
              "    }\n",
              "</style>\n",
              "<table border=\"1\" class=\"dataframe\">\n",
              "  <thead>\n",
              "    <tr style=\"text-align: right;\">\n",
              "      <th></th>\n",
              "      <th>Postal Code</th>\n",
              "      <th>Latitude</th>\n",
              "      <th>Longitude</th>\n",
              "    </tr>\n",
              "  </thead>\n",
              "  <tbody>\n",
              "    <tr>\n",
              "      <th>0</th>\n",
              "      <td>M1B</td>\n",
              "      <td>43.806686</td>\n",
              "      <td>-79.194353</td>\n",
              "    </tr>\n",
              "    <tr>\n",
              "      <th>1</th>\n",
              "      <td>M1C</td>\n",
              "      <td>43.784535</td>\n",
              "      <td>-79.160497</td>\n",
              "    </tr>\n",
              "    <tr>\n",
              "      <th>2</th>\n",
              "      <td>M1E</td>\n",
              "      <td>43.763573</td>\n",
              "      <td>-79.188711</td>\n",
              "    </tr>\n",
              "    <tr>\n",
              "      <th>3</th>\n",
              "      <td>M1G</td>\n",
              "      <td>43.770992</td>\n",
              "      <td>-79.216917</td>\n",
              "    </tr>\n",
              "    <tr>\n",
              "      <th>4</th>\n",
              "      <td>M1H</td>\n",
              "      <td>43.773136</td>\n",
              "      <td>-79.239476</td>\n",
              "    </tr>\n",
              "  </tbody>\n",
              "</table>\n",
              "</div>"
            ],
            "text/plain": [
              "  Postal Code   Latitude  Longitude\n",
              "0         M1B  43.806686 -79.194353\n",
              "1         M1C  43.784535 -79.160497\n",
              "2         M1E  43.763573 -79.188711\n",
              "3         M1G  43.770992 -79.216917\n",
              "4         M1H  43.773136 -79.239476"
            ]
          },
          "execution_count": 11,
          "metadata": {},
          "output_type": "execute_result"
        }
      ],
      "source": [
        "df_location = pd.read_csv(\"Geospatial_Coordinates.csv\")\n",
        "df_location.head()"
      ]
    },
    {
      "cell_type": "markdown",
      "metadata": {},
      "source": [
        "#### 2.2 Loop on each postal code to get its latitude and longitude"
      ]
    },
    {
      "cell_type": "code",
      "execution_count": 16,
      "metadata": {},
      "outputs": [
        {
          "ename": "IndexError",
          "evalue": "single positional indexer is out-of-bounds",
          "output_type": "error",
          "traceback": [
            "\u001b[1;31m---------------------------------------------------------------------------\u001b[0m",
            "\u001b[1;31mIndexError\u001b[0m                                Traceback (most recent call last)",
            "\u001b[1;32m~\\AppData\\Local\\Temp/ipykernel_22600/1967862364.py\u001b[0m in \u001b[0;36m<module>\u001b[1;34m\u001b[0m\n\u001b[0;32m      7\u001b[0m     \u001b[0mlocation\u001b[0m \u001b[1;33m=\u001b[0m \u001b[0mdf_location\u001b[0m\u001b[1;33m.\u001b[0m\u001b[0mloc\u001b[0m\u001b[1;33m[\u001b[0m\u001b[0mdf_location\u001b[0m\u001b[1;33m[\u001b[0m\u001b[1;34m'Postal Code'\u001b[0m\u001b[1;33m]\u001b[0m \u001b[1;33m==\u001b[0m \u001b[0mpostal_code\u001b[0m\u001b[1;33m]\u001b[0m\u001b[1;33m\u001b[0m\u001b[1;33m\u001b[0m\u001b[0m\n\u001b[0;32m      8\u001b[0m \u001b[1;33m\u001b[0m\u001b[0m\n\u001b[1;32m----> 9\u001b[1;33m     \u001b[0mlatitude\u001b[0m \u001b[1;33m=\u001b[0m \u001b[0mlocation\u001b[0m\u001b[1;33m.\u001b[0m\u001b[0miloc\u001b[0m\u001b[1;33m[\u001b[0m\u001b[1;36m0\u001b[0m\u001b[1;33m]\u001b[0m\u001b[1;33m[\u001b[0m\u001b[1;34m'Latitude'\u001b[0m\u001b[1;33m]\u001b[0m\u001b[1;33m\u001b[0m\u001b[1;33m\u001b[0m\u001b[0m\n\u001b[0m\u001b[0;32m     10\u001b[0m     \u001b[0mlongitude\u001b[0m \u001b[1;33m=\u001b[0m \u001b[0mlocation\u001b[0m\u001b[1;33m.\u001b[0m\u001b[0miloc\u001b[0m\u001b[1;33m[\u001b[0m\u001b[1;36m0\u001b[0m\u001b[1;33m]\u001b[0m\u001b[1;33m[\u001b[0m\u001b[1;34m'Longitude'\u001b[0m\u001b[1;33m]\u001b[0m\u001b[1;33m\u001b[0m\u001b[1;33m\u001b[0m\u001b[0m\n\u001b[0;32m     11\u001b[0m \u001b[1;33m\u001b[0m\u001b[0m\n",
            "\u001b[1;32mc:\\IDE\\Anaconda3\\envs\\python38\\lib\\site-packages\\pandas\\core\\indexing.py\u001b[0m in \u001b[0;36m__getitem__\u001b[1;34m(self, key)\u001b[0m\n\u001b[0;32m    877\u001b[0m \u001b[1;33m\u001b[0m\u001b[0m\n\u001b[0;32m    878\u001b[0m             \u001b[0mmaybe_callable\u001b[0m \u001b[1;33m=\u001b[0m \u001b[0mcom\u001b[0m\u001b[1;33m.\u001b[0m\u001b[0mapply_if_callable\u001b[0m\u001b[1;33m(\u001b[0m\u001b[0mkey\u001b[0m\u001b[1;33m,\u001b[0m \u001b[0mself\u001b[0m\u001b[1;33m.\u001b[0m\u001b[0mobj\u001b[0m\u001b[1;33m)\u001b[0m\u001b[1;33m\u001b[0m\u001b[1;33m\u001b[0m\u001b[0m\n\u001b[1;32m--> 879\u001b[1;33m             \u001b[1;32mreturn\u001b[0m \u001b[0mself\u001b[0m\u001b[1;33m.\u001b[0m\u001b[0m_getitem_axis\u001b[0m\u001b[1;33m(\u001b[0m\u001b[0mmaybe_callable\u001b[0m\u001b[1;33m,\u001b[0m \u001b[0maxis\u001b[0m\u001b[1;33m=\u001b[0m\u001b[0maxis\u001b[0m\u001b[1;33m)\u001b[0m\u001b[1;33m\u001b[0m\u001b[1;33m\u001b[0m\u001b[0m\n\u001b[0m\u001b[0;32m    880\u001b[0m \u001b[1;33m\u001b[0m\u001b[0m\n\u001b[0;32m    881\u001b[0m     \u001b[1;32mdef\u001b[0m \u001b[0m_is_scalar_access\u001b[0m\u001b[1;33m(\u001b[0m\u001b[0mself\u001b[0m\u001b[1;33m,\u001b[0m \u001b[0mkey\u001b[0m\u001b[1;33m:\u001b[0m \u001b[0mTuple\u001b[0m\u001b[1;33m)\u001b[0m\u001b[1;33m:\u001b[0m\u001b[1;33m\u001b[0m\u001b[1;33m\u001b[0m\u001b[0m\n",
            "\u001b[1;32mc:\\IDE\\Anaconda3\\envs\\python38\\lib\\site-packages\\pandas\\core\\indexing.py\u001b[0m in \u001b[0;36m_getitem_axis\u001b[1;34m(self, key, axis)\u001b[0m\n\u001b[0;32m   1494\u001b[0m \u001b[1;33m\u001b[0m\u001b[0m\n\u001b[0;32m   1495\u001b[0m             \u001b[1;31m# validate the location\u001b[0m\u001b[1;33m\u001b[0m\u001b[1;33m\u001b[0m\u001b[1;33m\u001b[0m\u001b[0m\n\u001b[1;32m-> 1496\u001b[1;33m             \u001b[0mself\u001b[0m\u001b[1;33m.\u001b[0m\u001b[0m_validate_integer\u001b[0m\u001b[1;33m(\u001b[0m\u001b[0mkey\u001b[0m\u001b[1;33m,\u001b[0m \u001b[0maxis\u001b[0m\u001b[1;33m)\u001b[0m\u001b[1;33m\u001b[0m\u001b[1;33m\u001b[0m\u001b[0m\n\u001b[0m\u001b[0;32m   1497\u001b[0m \u001b[1;33m\u001b[0m\u001b[0m\n\u001b[0;32m   1498\u001b[0m             \u001b[1;32mreturn\u001b[0m \u001b[0mself\u001b[0m\u001b[1;33m.\u001b[0m\u001b[0mobj\u001b[0m\u001b[1;33m.\u001b[0m\u001b[0m_ixs\u001b[0m\u001b[1;33m(\u001b[0m\u001b[0mkey\u001b[0m\u001b[1;33m,\u001b[0m \u001b[0maxis\u001b[0m\u001b[1;33m=\u001b[0m\u001b[0maxis\u001b[0m\u001b[1;33m)\u001b[0m\u001b[1;33m\u001b[0m\u001b[1;33m\u001b[0m\u001b[0m\n",
            "\u001b[1;32mc:\\IDE\\Anaconda3\\envs\\python38\\lib\\site-packages\\pandas\\core\\indexing.py\u001b[0m in \u001b[0;36m_validate_integer\u001b[1;34m(self, key, axis)\u001b[0m\n\u001b[0;32m   1435\u001b[0m         \u001b[0mlen_axis\u001b[0m \u001b[1;33m=\u001b[0m \u001b[0mlen\u001b[0m\u001b[1;33m(\u001b[0m\u001b[0mself\u001b[0m\u001b[1;33m.\u001b[0m\u001b[0mobj\u001b[0m\u001b[1;33m.\u001b[0m\u001b[0m_get_axis\u001b[0m\u001b[1;33m(\u001b[0m\u001b[0maxis\u001b[0m\u001b[1;33m)\u001b[0m\u001b[1;33m)\u001b[0m\u001b[1;33m\u001b[0m\u001b[1;33m\u001b[0m\u001b[0m\n\u001b[0;32m   1436\u001b[0m         \u001b[1;32mif\u001b[0m \u001b[0mkey\u001b[0m \u001b[1;33m>=\u001b[0m \u001b[0mlen_axis\u001b[0m \u001b[1;32mor\u001b[0m \u001b[0mkey\u001b[0m \u001b[1;33m<\u001b[0m \u001b[1;33m-\u001b[0m\u001b[0mlen_axis\u001b[0m\u001b[1;33m:\u001b[0m\u001b[1;33m\u001b[0m\u001b[1;33m\u001b[0m\u001b[0m\n\u001b[1;32m-> 1437\u001b[1;33m             \u001b[1;32mraise\u001b[0m \u001b[0mIndexError\u001b[0m\u001b[1;33m(\u001b[0m\u001b[1;34m\"single positional indexer is out-of-bounds\"\u001b[0m\u001b[1;33m)\u001b[0m\u001b[1;33m\u001b[0m\u001b[1;33m\u001b[0m\u001b[0m\n\u001b[0m\u001b[0;32m   1438\u001b[0m \u001b[1;33m\u001b[0m\u001b[0m\n\u001b[0;32m   1439\u001b[0m     \u001b[1;31m# -------------------------------------------------------------------\u001b[0m\u001b[1;33m\u001b[0m\u001b[1;33m\u001b[0m\u001b[1;33m\u001b[0m\u001b[0m\n",
            "\u001b[1;31mIndexError\u001b[0m: single positional indexer is out-of-bounds"
          ]
        }
      ],
      "source": [
        "latitudes = []\n",
        "longitudes = []\n",
        "\n",
        "for index, row in df.iterrows():\n",
        "    postal_code = row['PostalCode']\n",
        "\n",
        "    location = df_location.loc[df_location['Postal Code'] == postal_code]\n",
        "\n",
        "    latitude = location.iloc[0]['Latitude']\n",
        "    longitude = location.iloc[0]['Longitude']\n",
        "\n",
        "    latitudes.append(latitude)\n",
        "    longitudes.append(longitude)\n",
        "\n",
        "df_toronto['Latitude'] = latitudes\n",
        "df_toronto['Longitude'] = longitudes\n",
        "\n",
        "df_toronto"
      ]
    },
    {
      "cell_type": "markdown",
      "metadata": {},
      "source": [
        "## Part 3: Explore and Cluster Toronto neighborhoods"
      ]
    },
    {
      "cell_type": "code",
      "execution_count": null,
      "metadata": {},
      "outputs": [],
      "source": [
        "import json # library to handle JSON files\n",
        "\n",
        "#!conda install -c conda-forge geopy --yes # uncomment this line if you haven't completed the Foursquare API lab\n",
        "from geopy.geocoders import Nominatim # convert an address to latitude and longitude values\n",
        "\n",
        "import requests # library to handle requests\n",
        "from pandas.io.json import json_normalize # tranform JSON file into a pandas dataframe\n",
        "\n",
        "# Matplotlib and associated plotting modules\n",
        "import matplotlib.cm as cm\n",
        "import matplotlib.colors as colors\n",
        "\n",
        "# import k-means from clustering stage\n",
        "from sklearn.cluster import KMeans\n",
        "\n",
        "#!conda install -c conda-forge folium=0.5.0 --yes # uncomment this line if you haven't completed the Foursquare API lab\n",
        "import folium # map rendering library\n",
        "\n",
        "print('Libraries imported.')"
      ]
    },
    {
      "cell_type": "markdown",
      "metadata": {},
      "source": [
        "## 3.1. Visualize Toronto neighborhoods"
      ]
    },
    {
      "cell_type": "code",
      "execution_count": null,
      "metadata": {},
      "outputs": [],
      "source": [
        "address = 'Toronto, Ontario'\n",
        "\n",
        "geolocator = Nominatim(user_agent=\"to_explorer\")\n",
        "location = geolocator.geocode(address)\n",
        "latitude = location.latitude\n",
        "longitude = location.longitude\n",
        "print('The geograpical coordinate of Toronto are {}, {}.'.format(latitude, longitude))"
      ]
    },
    {
      "cell_type": "code",
      "execution_count": null,
      "metadata": {},
      "outputs": [],
      "source": [
        "# create map of New York using latitude and longitude values\n",
        "map_newyork = folium.Map(location=[latitude, longitude], zoom_start=10)\n",
        "\n",
        "# add markers to map\n",
        "for lat, lng, borough, neighborhood in zip(df_toronto['Latitude'], df_toronto['Longitude'], df_toronto['Borough'], df_toronto['Neighborhood']):\n",
        "    label = '{}, {}'.format(neighborhood, borough)\n",
        "    label = folium.Popup(label, parse_html=True)\n",
        "    folium.CircleMarker(\n",
        "        [lat, lng],\n",
        "        radius=5,\n",
        "        popup=label,\n",
        "        color='blue',\n",
        "        fill=True,\n",
        "        fill_color='#3186cc',\n",
        "        fill_opacity=0.7,\n",
        "        parse_html=False).add_to(map_newyork)  \n",
        "    \n",
        "map_newyork"
      ]
    },
    {
      "cell_type": "markdown",
      "metadata": {},
      "source": [
        "#### Define Foursquare Credentials and Version"
      ]
    },
    {
      "cell_type": "code",
      "execution_count": null,
      "metadata": {},
      "outputs": [],
      "source": [
        "CLIENT_ID = '00000000000000000000000' # your Foursquare ID\n",
        "CLIENT_SECRET = '000000000000000000000000' # your Foursquare Secret\n",
        "VERSION = '20180605' # Foursquare API version\n",
        "LIMIT = 100 # A default Foursquare API limit value\n",
        "\n",
        "print('Your credentails:')\n",
        "print('CLIENT_ID: ' + CLIENT_ID)\n",
        "print('CLIENT_SECRET:' + CLIENT_SECRET)"
      ]
    },
    {
      "cell_type": "code",
      "execution_count": null,
      "metadata": {},
      "outputs": [],
      "source": [
        "# function that extracts the category of the venue\n",
        "def get_category_type(row):\n",
        "    try:\n",
        "        categories_list = row['categories']\n",
        "    except:\n",
        "        categories_list = row['venue.categories']\n",
        "        \n",
        "    if len(categories_list) == 0:\n",
        "        return None\n",
        "    else:\n",
        "        return categories_list[0]['name']"
      ]
    },
    {
      "cell_type": "markdown",
      "metadata": {},
      "source": [
        "## 3.2. Explore Toronto neighborhoods"
      ]
    },
    {
      "cell_type": "markdown",
      "metadata": {},
      "source": [
        "#### Let's create a function to explore all the neighborhoods in Toronto"
      ]
    },
    {
      "cell_type": "code",
      "execution_count": null,
      "metadata": {},
      "outputs": [],
      "source": [
        "def getNearbyVenues(names, latitudes, longitudes, radius=500):\n",
        "    \n",
        "    venues_list=[]\n",
        "    for name, lat, lng in zip(names, latitudes, longitudes):\n",
        "        #print(name)\n",
        "            \n",
        "        # create the API request URL\n",
        "        url = 'https://api.foursquare.com/v2/venues/explore?&client_id={}&client_secret={}&v={}&ll={},{}&radius={}&limit={}'.format(\n",
        "            CLIENT_ID, \n",
        "            CLIENT_SECRET, \n",
        "            VERSION, \n",
        "            lat, \n",
        "            lng, \n",
        "            radius, \n",
        "            LIMIT)\n",
        "            \n",
        "        # make the GET request\n",
        "        results = requests.get(url).json()[\"response\"]['groups'][0]['items']\n",
        "\n",
        "        print('{}: {} venues'.format(name, len(results)))\n",
        "\n",
        "        \n",
        "        # return only relevant information for each nearby venue\n",
        "\n",
        "        venues_list.append([(\n",
        "            name, \n",
        "            lat, \n",
        "            lng, \n",
        "            v['venue']['name'], \n",
        "            v['venue']['location']['lat'], \n",
        "            v['venue']['location']['lng'],  \n",
        "            v['venue']['categories'][0]['name']) for v in results])\n",
        "\n",
        "    nearby_venues = pd.DataFrame([item for venue_list in venues_list for item in venue_list])\n",
        "    nearby_venues.columns = ['Neighborhood', \n",
        "                  'Neighborhood Latitude', \n",
        "                  'Neighborhood Longitude', \n",
        "                  'Venue', \n",
        "                  'Venue Latitude', \n",
        "                  'Venue Longitude', \n",
        "                  'Venue Category']\n",
        "    \n",
        "    return(nearby_venues)"
      ]
    },
    {
      "cell_type": "code",
      "execution_count": null,
      "metadata": {},
      "outputs": [],
      "source": [
        "neighborhood_names = df_toronto.loc[:, 'Neighborhood'] # neighborhood names\n",
        "neighborhood_latitudes = df_toronto.loc[:, 'Latitude'] # neighborhood latitude values\n",
        "neighborhood_longitudes = df_toronto.loc[:, 'Longitude'] # neighborhood longitude values\n",
        "\n",
        "toronto_venues = getNearbyVenues(neighborhood_names, neighborhood_latitudes, neighborhood_longitudes)\n",
        "\n",
        "toronto_venues.head()"
      ]
    },
    {
      "cell_type": "markdown",
      "metadata": {},
      "source": [
        "## 3.3 Analyze neighborhoods Venues"
      ]
    },
    {
      "cell_type": "code",
      "execution_count": null,
      "metadata": {},
      "outputs": [],
      "source": [
        "print(toronto_venues.shape)\n",
        "print(len(toronto_venues['Neighborhood'].unique()))\n",
        "toronto_venues.head()"
      ]
    },
    {
      "cell_type": "code",
      "execution_count": null,
      "metadata": {},
      "outputs": [],
      "source": [
        "toronto_venues.shape"
      ]
    },
    {
      "cell_type": "code",
      "execution_count": null,
      "metadata": {},
      "outputs": [],
      "source": [
        "toronto_venues.groupby('Neighborhood').count() # how many venues were retruned for each postal code"
      ]
    },
    {
      "cell_type": "markdown",
      "metadata": {},
      "source": [
        "Note that we only have 96 neighborhoods with venues. Foursquare did not return any venues for some postal codes"
      ]
    },
    {
      "cell_type": "markdown",
      "metadata": {},
      "source": [
        "#### Let's find out how many unique categories can be curated from all the returned venues"
      ]
    },
    {
      "cell_type": "code",
      "execution_count": null,
      "metadata": {},
      "outputs": [],
      "source": [
        "print('There are {} uniques categories.'.format(len(toronto_venues['Venue Category'].unique())))"
      ]
    },
    {
      "cell_type": "code",
      "execution_count": null,
      "metadata": {},
      "outputs": [],
      "source": [
        "toronto_venues[toronto_venues['Venue Category'] == \"Neighborhood\"]"
      ]
    },
    {
      "cell_type": "code",
      "execution_count": null,
      "metadata": {},
      "outputs": [],
      "source": [
        "# drop rows containing Venue Category = \"Neighborhood\", it has no meaning!\n",
        "toronto_venues = toronto_venues[toronto_venues['Venue Category'] != \"Neighborhood\"]"
      ]
    },
    {
      "cell_type": "markdown",
      "metadata": {},
      "source": [
        "#### Now create one hot encoded data frame with the 267 categories for each neighborhood"
      ]
    },
    {
      "cell_type": "code",
      "execution_count": null,
      "metadata": {},
      "outputs": [],
      "source": [
        "# one hot encoding\n",
        "toronto_onehot = pd.get_dummies(toronto_venues[['Venue Category']], prefix=\"\", prefix_sep=\"\")\n",
        "\n",
        "toronto_onehot.head()"
      ]
    },
    {
      "cell_type": "code",
      "execution_count": null,
      "metadata": {},
      "outputs": [],
      "source": [
        "# Re-add Neighborhood column and make it the first column\n",
        "columns_names = list(toronto_onehot.columns.values)\n",
        "\n",
        "toronto_onehot['Neighborhood'] = toronto_venues['Neighborhood']\n",
        "\n",
        "columns_names.insert(0, 'Neighborhood')\n",
        "\n",
        "toronto_onehot = toronto_onehot[columns_names]\n",
        "\n",
        "toronto_onehot.head()"
      ]
    },
    {
      "cell_type": "code",
      "execution_count": null,
      "metadata": {},
      "outputs": [],
      "source": [
        "toronto_onehot.shape"
      ]
    },
    {
      "cell_type": "code",
      "execution_count": null,
      "metadata": {},
      "outputs": [],
      "source": [
        "toronto_grouped = toronto_onehot.groupby('Neighborhood').mean().reset_index()\n",
        "toronto_grouped"
      ]
    },
    {
      "cell_type": "code",
      "execution_count": null,
      "metadata": {},
      "outputs": [],
      "source": [
        "toronto_grouped.shape"
      ]
    },
    {
      "cell_type": "code",
      "execution_count": null,
      "metadata": {},
      "outputs": [],
      "source": [
        "def return_most_common_venues(row, num_top_venues):\n",
        "    row_categories = row.iloc[1:]\n",
        "    row_categories_sorted = row_categories.sort_values(ascending=False)\n",
        "    \n",
        "    return row_categories_sorted.index.values[0:num_top_venues]"
      ]
    },
    {
      "cell_type": "code",
      "execution_count": null,
      "metadata": {},
      "outputs": [],
      "source": [
        "num_top_venues = 10\n",
        "\n",
        "indicators = ['st', 'nd', 'rd']\n",
        "\n",
        "# create columns according to number of top venues\n",
        "columns = ['Neighborhood']\n",
        "for ind in np.arange(num_top_venues):\n",
        "    try:\n",
        "        columns.append('{}{} Most Common Venue'.format(ind+1, indicators[ind]))\n",
        "    except:\n",
        "        columns.append('{}th Most Common Venue'.format(ind+1))\n",
        "\n",
        "# create a new dataframe\n",
        "neighborhoods_venues_sorted = pd.DataFrame(columns=columns)\n",
        "neighborhoods_venues_sorted['Neighborhood'] = toronto_grouped['Neighborhood']\n",
        "\n",
        "for ind in np.arange(toronto_grouped.shape[0]):\n",
        "    neighborhoods_venues_sorted.iloc[ind, 1:] = return_most_common_venues(toronto_grouped.iloc[ind, :], num_top_venues)\n",
        "\n",
        "neighborhoods_venues_sorted.head()"
      ]
    },
    {
      "cell_type": "code",
      "execution_count": null,
      "metadata": {},
      "outputs": [],
      "source": [
        "neighborhoods_venues_sorted.shape"
      ]
    },
    {
      "cell_type": "markdown",
      "metadata": {},
      "source": [
        "## 3.4. Cluster Neighborhoods"
      ]
    },
    {
      "cell_type": "code",
      "execution_count": null,
      "metadata": {},
      "outputs": [],
      "source": [
        "# set number of clusters\n",
        "kclusters = 4\n",
        "\n",
        "toronto_grouped_clustering = toronto_grouped.drop('Neighborhood', 1)\n",
        "\n",
        "# run k-means clustering\n",
        "kmeans = KMeans(n_clusters=kclusters, random_state=0).fit(toronto_grouped_clustering)\n",
        "\n",
        "# check cluster labels generated for each row in the dataframe\n",
        "kmeans.labels_ "
      ]
    },
    {
      "cell_type": "code",
      "execution_count": null,
      "metadata": {},
      "outputs": [],
      "source": [
        "kmeans.labels_.shape"
      ]
    },
    {
      "cell_type": "code",
      "execution_count": null,
      "metadata": {},
      "outputs": [],
      "source": [
        "# add clustering labels\n",
        "try:\n",
        "    neighborhoods_venues_sorted = neighborhoods_venues_sorted.drop(\"Cluster Labels\", 1)\n",
        "except:\n",
        "    print(\"Cluster Labels not present\")\n",
        "    \n",
        "neighborhoods_venues_sorted.insert(0, 'Cluster Labels', kmeans.labels_)\n",
        "neighborhoods_venues_sorted"
      ]
    },
    {
      "cell_type": "code",
      "execution_count": null,
      "metadata": {},
      "outputs": [],
      "source": [
        "toronto_merged = df_toronto\n",
        "\n",
        "# merge manhattan_grouped with manhattan_data to add latitude/longitude for each neighborhood\n",
        "toronto_merged = neighborhoods_venues_sorted.join(toronto_merged.set_index('Neighborhood'), on='Neighborhood')\n",
        "\n",
        "toronto_merged.head() # check the last columns!"
      ]
    },
    {
      "cell_type": "markdown",
      "metadata": {},
      "source": [
        "#### let's visualize the resulting clusters"
      ]
    },
    {
      "cell_type": "code",
      "execution_count": null,
      "metadata": {},
      "outputs": [],
      "source": [
        "\n",
        "# Matplotlib and associated plotting modules\n",
        "import matplotlib.cm as cm\n",
        "import matplotlib.colors as colors\n",
        "\n",
        "# create map\n",
        "map_clusters = folium.Map(location=[latitude, longitude], zoom_start=11)\n",
        "\n",
        "# set color scheme for the clusters\n",
        "x = np.arange(kclusters)\n",
        "ys = [i + x + (i*x)**2 for i in range(kclusters)]\n",
        "colors_array = cm.rainbow(np.linspace(0, 1, len(ys)))\n",
        "rainbow = [colors.rgb2hex(i) for i in colors_array]\n",
        "\n",
        "# add markers to the map\n",
        "markers_colors = []\n",
        "for lat, lon, poi, cluster in zip(toronto_merged['Latitude'], toronto_merged['Longitude'], toronto_merged['Neighborhood'], toronto_merged['Cluster Labels']):\n",
        "    label = folium.Popup(str(poi) + ' Cluster ' + str(cluster), parse_html=True)\n",
        "    print(label)\n",
        "    folium.CircleMarker(\n",
        "        [lat, lon],\n",
        "        radius=5,\n",
        "        popup=label,\n",
        "        color=rainbow[cluster-1],\n",
        "        fill=True,\n",
        "        fill_color=rainbow[cluster-1],\n",
        "        fill_opacity=0.7).add_to(map_clusters)\n",
        "       \n",
        "map_clusters"
      ]
    },
    {
      "cell_type": "markdown",
      "metadata": {},
      "source": [
        "## 3.5. Examine Clusters"
      ]
    },
    {
      "cell_type": "code",
      "execution_count": null,
      "metadata": {},
      "outputs": [],
      "source": [
        "toronto_merged.loc[toronto_merged['Cluster Labels'] == 0, toronto_merged.columns[[1] + list(range(2, toronto_merged.shape[1]))]]"
      ]
    },
    {
      "cell_type": "code",
      "execution_count": null,
      "metadata": {},
      "outputs": [],
      "source": [
        "toronto_merged.loc[toronto_merged['Cluster Labels'] == 1, toronto_merged.columns[[1] + list(range(2, toronto_merged.shape[1]))]]"
      ]
    },
    {
      "cell_type": "code",
      "execution_count": null,
      "metadata": {},
      "outputs": [],
      "source": [
        "toronto_merged.loc[toronto_merged['Cluster Labels'] == 2, toronto_merged.columns[[1] + list(range(2, toronto_merged.shape[1]))]]"
      ]
    },
    {
      "cell_type": "code",
      "execution_count": null,
      "metadata": {},
      "outputs": [],
      "source": [
        "toronto_merged.loc[toronto_merged['Cluster Labels'] == 3, toronto_merged.columns[[1] + list(range(2, toronto_merged.shape[1]))]]"
      ]
    },
    {
      "cell_type": "code",
      "execution_count": null,
      "metadata": {},
      "outputs": [],
      "source": []
    }
  ],
  "metadata": {
    "colab": {
      "name": "Untitled0.ipynb",
      "provenance": []
    },
    "kernelspec": {
      "display_name": "Python 3.8.5 ('python38')",
      "language": "python",
      "name": "python3"
    },
    "language_info": {
      "codemirror_mode": {
        "name": "ipython",
        "version": 3
      },
      "file_extension": ".py",
      "mimetype": "text/x-python",
      "name": "python",
      "nbconvert_exporter": "python",
      "pygments_lexer": "ipython3",
      "version": "3.8.5"
    },
    "vscode": {
      "interpreter": {
        "hash": "89e309909a5800c92076e20481ad5e93d84f7e2c7ee11b69c754bf90c5c321af"
      }
    }
  },
  "nbformat": 4,
  "nbformat_minor": 0
}
